{
 "cells": [
  {
   "cell_type": "markdown",
   "id": "bb4889e9",
   "metadata": {},
   "source": [
    "### Hannah Mattes Exercise 3"
   ]
  },
  {
   "cell_type": "markdown",
   "id": "4cde053c",
   "metadata": {},
   "source": [
    "#### Section 1: Variable Names"
   ]
  },
  {
   "cell_type": "code",
   "execution_count": 4,
   "id": "969a3c31",
   "metadata": {},
   "outputs": [
    {
     "ename": "SyntaxError",
     "evalue": "invalid syntax (<ipython-input-4-c4112313bd62>, line 7)",
     "output_type": "error",
     "traceback": [
      "\u001b[1;36m  File \u001b[1;32m\"<ipython-input-4-c4112313bd62>\"\u001b[1;36m, line \u001b[1;32m7\u001b[0m\n\u001b[1;33m    2023spring_graduation = \"the weekend of May 12th\"\u001b[0m\n\u001b[1;37m                        ^\u001b[0m\n\u001b[1;31mSyntaxError\u001b[0m\u001b[1;31m:\u001b[0m invalid syntax\n"
     ]
    }
   ],
   "source": [
    "# 3 examples of bad variable names:\n",
    "\n",
    "abc123 = 7\n",
    "# This variable is not descriptive, so I have no idea why 7 is being stored.\n",
    "the_worlds_largest_cat_has_a_name_and_it_is = \"John\"\n",
    "# This variable is descriptive, but it is unnecessarily long. Also, I didn't fact check this so the world's biggest cat might not be named John.\n",
    "2023spring_graduation = \"the weekend of May 12th\"\n",
    "# This is a bad variable name because it is an invalid variable name (they can't start with a number)"
   ]
  },
  {
   "cell_type": "code",
   "execution_count": 6,
   "id": "7074df8d",
   "metadata": {},
   "outputs": [],
   "source": [
    "# 3 examples of good variable names:\n",
    "\n",
    "number_of_kids = 7\n",
    "# Now I know what 7 is related to.\n",
    "cat_name = \"John\"\n",
    "# Conveys the same information more concisely than before.\n",
    "spring_23_graduation = \"the weekend of May 12th\"\n",
    "# This is a good variable name because it is a valid variable name."
   ]
  },
  {
   "cell_type": "markdown",
   "id": "2ba1abc2",
   "metadata": {},
   "source": [
    "#### Section 2: Variable Names and Readability of Code"
   ]
  },
  {
   "cell_type": "code",
   "execution_count": 2,
   "id": "c6990278",
   "metadata": {},
   "outputs": [
    {
     "name": "stdout",
     "output_type": "stream",
     "text": [
      "500.0\n"
     ]
    }
   ],
   "source": [
    "# original code:\n",
    "x12yz = 40.0\n",
    "x12yu = 12.5\n",
    "x13yz = x12yz * x12yu\n",
    "print(x13yz)"
   ]
  },
  {
   "cell_type": "markdown",
   "id": "b3120209",
   "metadata": {},
   "source": [
    "I think that this code was intended to be used to calculate area of a room."
   ]
  },
  {
   "cell_type": "code",
   "execution_count": 4,
   "id": "45ca4ef3",
   "metadata": {},
   "outputs": [
    {
     "name": "stdout",
     "output_type": "stream",
     "text": [
      "500.0\n"
     ]
    }
   ],
   "source": [
    "# my version of the code, with comments:\n",
    "room_length = 40.0  # Stores length of the room\n",
    "room_width = 12.5  # Stores width of the room (I'm assuming the room is rectangular)\n",
    "room_area = room_length * room_width  # A = l * w\n",
    "print(room_area)  # prints the area of the room"
   ]
  },
  {
   "cell_type": "markdown",
   "id": "569208cc",
   "metadata": {},
   "source": [
    "#### Section 3: String Methods"
   ]
  },
  {
   "cell_type": "code",
   "execution_count": null,
   "id": "f72df829",
   "metadata": {},
   "outputs": [],
   "source": []
  }
 ],
 "metadata": {
  "kernelspec": {
   "display_name": "Python 3",
   "language": "python",
   "name": "python3"
  },
  "language_info": {
   "codemirror_mode": {
    "name": "ipython",
    "version": 3
   },
   "file_extension": ".py",
   "mimetype": "text/x-python",
   "name": "python",
   "nbconvert_exporter": "python",
   "pygments_lexer": "ipython3",
   "version": "3.7.11"
  }
 },
 "nbformat": 4,
 "nbformat_minor": 5
}
