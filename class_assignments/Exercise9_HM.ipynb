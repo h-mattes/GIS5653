{
 "cells": [
  {
   "cell_type": "markdown",
   "id": "1a224392",
   "metadata": {},
   "source": [
    "Hannah Mattes Exercise 9"
   ]
  },
  {
   "cell_type": "markdown",
   "id": "cc798a22",
   "metadata": {},
   "source": [
    "#### Section 1. stepwise creation of SQL queries"
   ]
  },
  {
   "cell_type": "code",
   "execution_count": 3,
   "id": "fbb31db2",
   "metadata": {},
   "outputs": [
    {
     "name": "stdout",
     "output_type": "stream",
     "text": [
      "\"STATEFP\" = '02'\n"
     ]
    }
   ],
   "source": [
    "# query 1: select all counties in Alaska\n",
    "column = \"STATEFP\"\n",
    "value = '02'\n",
    "query_1 = '\"{0}\" = \\'{1}\\''.format(column, value)\n",
    "print(query_1)"
   ]
  },
  {
   "cell_type": "code",
   "execution_count": 2,
   "id": "1614bd10",
   "metadata": {},
   "outputs": [
    {
     "name": "stdout",
     "output_type": "stream",
     "text": [
      "\"STATEFP\" = '41' OR \"STATEFP\" = '30' OR \"STATEFP\" = '53'\n"
     ]
    }
   ],
   "source": [
    "# query 2: select all counties in Oregon, Montana, and Washington\n",
    "column = \"STATEFP\"\n",
    "value = ['41', '30', '53']\n",
    "query_2 = '\"STATEFP\" = \\'41\\' OR \"STATEFP\" = \\'30\\' OR \"STATEFP\" = \\'53\\''.format(column, value)\n",
    "print(query_2)"
   ]
  },
  {
   "cell_type": "markdown",
   "id": "931fbdda",
   "metadata": {},
   "source": [
    "#### Section 2. select counties in 3 states"
   ]
  },
  {
   "cell_type": "code",
   "execution_count": null,
   "id": "aa35713b",
   "metadata": {},
   "outputs": [],
   "source": []
  }
 ],
 "metadata": {
  "kernelspec": {
   "display_name": "Python 3",
   "language": "python",
   "name": "python3"
  },
  "language_info": {
   "codemirror_mode": {
    "name": "ipython",
    "version": 3
   },
   "file_extension": ".py",
   "mimetype": "text/x-python",
   "name": "python",
   "nbconvert_exporter": "python",
   "pygments_lexer": "ipython3",
   "version": "3.7.11"
  }
 },
 "nbformat": 4,
 "nbformat_minor": 5
}
