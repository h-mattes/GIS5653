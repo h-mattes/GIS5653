{
 "cells": [
  {
   "cell_type": "markdown",
   "id": "aeb752e8",
   "metadata": {},
   "source": [
    "Hannah Mattes Exercise 9"
   ]
  },
  {
   "cell_type": "markdown",
   "id": "17ef5ce6",
   "metadata": {},
   "source": [
    "#### Section 1. stepwise creation of SQL queries"
   ]
  },
  {
   "cell_type": "code",
   "execution_count": 3,
   "id": "f30fe4f5",
   "metadata": {},
   "outputs": [
    {
     "name": "stdout",
     "output_type": "stream",
     "text": [
      "\"STATEFP\" = '02'\n"
     ]
    }
   ],
   "source": [
    "# query 1: select all counties in Alaska\n",
    "column = \"STATEFP\"\n",
    "value = '02'\n",
    "query_1 = '\"{0}\" = \\'{1}\\''.format(column, value)\n",
    "print(query_1)"
   ]
  },
  {
   "cell_type": "code",
   "execution_count": 2,
   "id": "494e6a6a",
   "metadata": {},
   "outputs": [
    {
     "name": "stdout",
     "output_type": "stream",
     "text": [
      "\"STATEFP\" = '41' OR \"STATEFP\" = '30' OR \"STATEFP\" = '53'\n"
     ]
    }
   ],
   "source": [
    "# query 2: select all counties in Oregon, Montana, and Washington\n",
    "column = \"STATEFP\"\n",
    "value = ['41', '30', '53']\n",
    "query_2 = '\"STATEFP\" = \\'41\\' OR \"STATEFP\" = \\'30\\' OR \"STATEFP\" = \\'53\\''.format(column, value)\n",
    "print(query_2)"
   ]
  },
  {
   "cell_type": "code",
   "execution_count": 3,
   "id": "db9b11ee",
   "metadata": {},
   "outputs": [
    {
     "name": "stdout",
     "output_type": "stream",
     "text": [
      "\"pop\" >= '500000'\n"
     ]
    }
   ],
   "source": [
    "# query 3: select all cities with a population greater than or equal to 500,000\n",
    "column = \"pop\"\n",
    "value = '500000'\n",
    "query_3 = '\"pop\" >= \\'500000\\''.format(column, value)\n",
    "print(query_3)"
   ]
  },
  {
   "cell_type": "markdown",
   "id": "a148068c",
   "metadata": {},
   "source": [
    "#### Section 2. select counties in 3 states"
   ]
  },
  {
   "cell_type": "code",
   "execution_count": null,
   "id": "0ac22c2a",
   "metadata": {},
   "outputs": [],
   "source": []
  }
 ],
 "metadata": {
  "kernelspec": {
   "display_name": "Python 3",
   "language": "python",
   "name": "python3"
  },
  "language_info": {
   "codemirror_mode": {
    "name": "ipython",
    "version": 3
   },
   "file_extension": ".py",
   "mimetype": "text/x-python",
   "name": "python",
   "nbconvert_exporter": "python",
   "pygments_lexer": "ipython3",
   "version": "3.7.11"
  }
 },
 "nbformat": 4,
 "nbformat_minor": 5
}
