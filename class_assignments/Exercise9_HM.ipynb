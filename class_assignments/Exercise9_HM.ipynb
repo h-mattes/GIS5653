{
 "cells": [
  {
   "cell_type": "markdown",
   "id": "3792e3d8",
   "metadata": {},
   "source": [
    "Hannah Mattes Exercise 9"
   ]
  },
  {
   "cell_type": "markdown",
   "id": "4c591d40",
   "metadata": {},
   "source": [
    "#### Section 1. stepwise creation of SQL queries"
   ]
  },
  {
   "cell_type": "code",
   "execution_count": 3,
   "id": "7fe65452",
   "metadata": {},
   "outputs": [
    {
     "name": "stdout",
     "output_type": "stream",
     "text": [
      "\"STATEFP\" = '02'\n"
     ]
    }
   ],
   "source": [
    "# query 1: select all counties in Alaska\n",
    "column = \"STATEFP\"\n",
    "value = '02'\n",
    "query_1 = '\"{0}\" = \\'{1}\\''.format(column, value)\n",
    "print(query_1)"
   ]
  },
  {
   "cell_type": "code",
   "execution_count": 11,
   "id": "123d5a38",
   "metadata": {},
   "outputs": [
    {
     "name": "stdout",
     "output_type": "stream",
     "text": [
      "\"STATEFP\" = '41' OR \"STATEFP\" = '30' OR \"STATEFP\" = '53'\n"
     ]
    }
   ],
   "source": [
    "# query 2: select all counties in Oregon, Montana, and Washington\n",
    "column = \"STATEFP\"\n",
    "value = ['41', '30', '53']\n",
    "query_2 = '\"{0}\" = \\'{1}\\' OR \"{0}\" = \\'{2}\\' OR \"{0}\" = \\'{3}\\''.format(column, value[0], value[1], value[2])\n",
    "print(query_2)"
   ]
  },
  {
   "cell_type": "code",
   "execution_count": 12,
   "id": "6d939272",
   "metadata": {},
   "outputs": [
    {
     "name": "stdout",
     "output_type": "stream",
     "text": [
      "\"pop\" >= '500000'\n"
     ]
    }
   ],
   "source": [
    "# query 3: select all cities with a population greater than or equal to 500,000\n",
    "column = \"pop\"\n",
    "value = '500000'\n",
    "query_3 = '\"{0}\" >= \\'{1}\\''.format(column, value)\n",
    "print(query_3)"
   ]
  },
  {
   "cell_type": "code",
   "execution_count": 13,
   "id": "7af71298",
   "metadata": {},
   "outputs": [
    {
     "name": "stdout",
     "output_type": "stream",
     "text": [
      "\"nam\" = \"Albany\"\n"
     ]
    }
   ],
   "source": [
    "# query 4: select all cities with the name Albany\n",
    "column = \"nam\"\n",
    "value = \"Albany\"\n",
    "query_4 = '\"{0}\" = \"{1}\"'.format(column, value)\n",
    "print(query_4)"
   ]
  },
  {
   "cell_type": "code",
   "execution_count": 15,
   "id": "5cdd5729",
   "metadata": {},
   "outputs": [
    {
     "name": "stdout",
     "output_type": "stream",
     "text": [
      "\"pop\" > '10000' AND \"pop\" < '100000'\n"
     ]
    }
   ],
   "source": [
    "# query 5: select all cities with a population between 10,000 and 100,000\n",
    "column = \"pop\"\n",
    "value = ['10000', '100000']\n",
    "query_5 = '\"{0}\" > \\'{1}\\' AND \"{0}\" < \\'{2}\\''.format(column, value[0], value[1])\n",
    "print(query_5)"
   ]
  },
  {
   "cell_type": "markdown",
   "id": "c40f5bd1",
   "metadata": {},
   "source": [
    "#### Section 2. select counties in 3 states"
   ]
  },
  {
   "cell_type": "code",
   "execution_count": 23,
   "id": "873745b5",
   "metadata": {},
   "outputs": [
    {
     "name": "stdout",
     "output_type": "stream",
     "text": [
      "Please provide three different states using their STATEFP identifiers and separate with single space: 04 05 06\n",
      "['04', '05', '06']\n",
      "\"STATEFP\" = '04' OR \"STATEFP\" = '05' OR \"STATEFP\" = '06'\n"
     ]
    },
    {
     "data": {
      "text/html": [
       "<div class='gpresult'><h2>Messages</h2><div id='messages' data-messages='[\"Start Time: Wednesday, November 2, 2022 10:55:41 AM\",\"Succeeded at Wednesday, November 2, 2022 10:55:41 AM (Elapsed Time: 0.26 seconds)\"]' data-show='true'><div id = 'default' /></div></div>"
      ],
      "text/plain": [
       "<Result 'C:/Users/hmatt/Desktop/GIS5653/class_assignments/Exercise_9\\\\selected_counties.shp'>"
      ]
     },
     "execution_count": 23,
     "metadata": {},
     "output_type": "execute_result"
    }
   ],
   "source": [
    "import arcpy\n",
    "from arcpy import env\n",
    "env.workspace = \"C:/Users/hmatt/Desktop/GIS5653/class_assignments/Exercise_9\"\n",
    "# ask the user for three different states by providing their STATEFP identifiers\n",
    "states_list = [ item for item in input(\"Please provide three different states using their STATEFP identifiers and separate with single space: \").split()]\n",
    "print(states_list)  # verify that line 3 worked\n",
    "\n",
    "# define fields\n",
    "column = \"STATEFP\"\n",
    "value = states_list[0], states_list[1], states_list[2]\n",
    "\n",
    "county_query = '\"{0}\" = \\'{1}\\' OR \"{0}\" = \\'{2}\\' OR \"{0}\" = \\'{3}\\''.format(column, value[0], value[1], value[2])  # create string literal\n",
    "print(county_query)  # view results\n",
    "\n",
    "# double-check with arcpy function\n",
    "arcpy.analysis.Select(\"tl_2019_us_county\", \"selected_counties\", '\"STATEFP\" = \\'04\\' OR \"STATEFP\" = \\'05\\' OR \"STATEFP\" = \\'06\\'')"
   ]
  }
 ],
 "metadata": {
  "kernelspec": {
   "display_name": "Python 3",
   "language": "python",
   "name": "python3"
  },
  "language_info": {
   "codemirror_mode": {
    "name": "ipython",
    "version": 3
   },
   "file_extension": ".py",
   "mimetype": "text/x-python",
   "name": "python",
   "nbconvert_exporter": "python",
   "pygments_lexer": "ipython3",
   "version": "3.7.11"
  }
 },
 "nbformat": 4,
 "nbformat_minor": 5
}
