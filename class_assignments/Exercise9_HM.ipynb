{
 "cells": [
  {
   "cell_type": "markdown",
   "id": "fec85092",
   "metadata": {},
   "source": [
    "Hannah Mattes Exercise 9"
   ]
  },
  {
   "cell_type": "markdown",
   "id": "454f7ab0",
   "metadata": {},
   "source": [
    "#### Section 1. stepwise creation of SQL queries"
   ]
  },
  {
   "cell_type": "code",
   "execution_count": 3,
   "id": "8e2853a1",
   "metadata": {},
   "outputs": [
    {
     "name": "stdout",
     "output_type": "stream",
     "text": [
      "\"STATEFP\" = '02'\n"
     ]
    }
   ],
   "source": [
    "# query 1: select all counties in Alaska\n",
    "column = \"STATEFP\"\n",
    "value = '02'\n",
    "query_1 = '\"{0}\" = \\'{1}\\''.format(column, value)\n",
    "print(query_1)"
   ]
  },
  {
   "cell_type": "code",
   "execution_count": 11,
   "id": "1589d4da",
   "metadata": {},
   "outputs": [
    {
     "name": "stdout",
     "output_type": "stream",
     "text": [
      "\"STATEFP\" = '41' OR \"STATEFP\" = '30' OR \"STATEFP\" = '53'\n"
     ]
    }
   ],
   "source": [
    "# query 2: select all counties in Oregon, Montana, and Washington\n",
    "column = \"STATEFP\"\n",
    "value = ['41', '30', '53']\n",
    "query_2 = '\"{0}\" = \\'{1}\\' OR \"{0}\" = \\'{2}\\' OR \"{0}\" = \\'{3}\\''.format(column, value[0], value[1], value[2])\n",
    "print(query_2)"
   ]
  },
  {
   "cell_type": "code",
   "execution_count": 12,
   "id": "24b4fb44",
   "metadata": {},
   "outputs": [
    {
     "name": "stdout",
     "output_type": "stream",
     "text": [
      "\"pop\" >= '500000'\n"
     ]
    }
   ],
   "source": [
    "# query 3: select all cities with a population greater than or equal to 500,000\n",
    "column = \"pop\"\n",
    "value = '500000'\n",
    "query_3 = '\"{0}\" >= \\'{1}\\''.format(column, value)\n",
    "print(query_3)"
   ]
  },
  {
   "cell_type": "code",
   "execution_count": 13,
   "id": "3d7257e8",
   "metadata": {},
   "outputs": [
    {
     "name": "stdout",
     "output_type": "stream",
     "text": [
      "\"nam\" = \"Albany\"\n"
     ]
    }
   ],
   "source": [
    "# query 4: select all cities with the name Albany\n",
    "column = \"nam\"\n",
    "value = \"Albany\"\n",
    "query_4 = '\"{0}\" = \"{1}\"'.format(column, value)\n",
    "print(query_4)"
   ]
  },
  {
   "cell_type": "code",
   "execution_count": 15,
   "id": "984d834d",
   "metadata": {},
   "outputs": [
    {
     "name": "stdout",
     "output_type": "stream",
     "text": [
      "\"pop\" > '10000' AND \"pop\" < '100000'\n"
     ]
    }
   ],
   "source": [
    "# query 5: select all cities with a population between 10,000 and 100,000\n",
    "column = \"pop\"\n",
    "value = ['10000', '100000']\n",
    "query_5 = '\"{0}\" > \\'{1}\\' AND \"{0}\" < \\'{2}\\''.format(column, value[0], value[1])\n",
    "print(query_5)"
   ]
  },
  {
   "cell_type": "markdown",
   "id": "e304d751",
   "metadata": {},
   "source": [
    "#### Section 2. select counties in 3 states"
   ]
  },
  {
   "cell_type": "code",
   "execution_count": null,
   "id": "dc49fe51",
   "metadata": {},
   "outputs": [],
   "source": []
  }
 ],
 "metadata": {
  "kernelspec": {
   "display_name": "Python 3",
   "language": "python",
   "name": "python3"
  },
  "language_info": {
   "codemirror_mode": {
    "name": "ipython",
    "version": 3
   },
   "file_extension": ".py",
   "mimetype": "text/x-python",
   "name": "python",
   "nbconvert_exporter": "python",
   "pygments_lexer": "ipython3",
   "version": "3.7.11"
  }
 },
 "nbformat": 4,
 "nbformat_minor": 5
}
