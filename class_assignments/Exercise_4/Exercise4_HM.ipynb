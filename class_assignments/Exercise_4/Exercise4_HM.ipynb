{
 "cells": [
  {
   "cell_type": "markdown",
   "id": "54e5c87c",
   "metadata": {},
   "source": [
    "Hannah Mattes Exercise 4"
   ]
  },
  {
   "cell_type": "code",
   "execution_count": 11,
   "id": "1903c716",
   "metadata": {},
   "outputs": [
    {
     "name": "stdout",
     "output_type": "stream",
     "text": [
      "Good morning, Hannah!\n"
     ]
    }
   ],
   "source": [
    "# Section 1: write functions\n",
    "\n",
    "def greetEnglish(name):\n",
    "    \"\"\"Returns a greeting in English\"\"\"\n",
    "    print(\"Good morning, \" + str(name) + \"!\")\n",
    "\n",
    "name = \"Hannah\"\n",
    "greetEnglish(name)"
   ]
  },
  {
   "cell_type": "code",
   "execution_count": 23,
   "id": "a0708303",
   "metadata": {},
   "outputs": [
    {
     "name": "stdout",
     "output_type": "stream",
     "text": [
      "Guten Morgen, Hannah!\n"
     ]
    }
   ],
   "source": [
    "def greetGerman(name):\n",
    "    \"\"\"Returns a greeting in German\"\"\"\n",
    "    print(f\"Guten Morgen, {name}!\")\n",
    "\n",
    "name = \"Hannah\"\n",
    "greetGerman(name)"
   ]
  },
  {
   "cell_type": "code",
   "execution_count": 24,
   "id": "a77d3b21",
   "metadata": {},
   "outputs": [
    {
     "name": "stdout",
     "output_type": "stream",
     "text": [
      "Salve, Hannah!\n"
     ]
    }
   ],
   "source": [
    "def greetLatin(name):\n",
    "    \"\"\"Returns a greeting in Latin\"\"\"\n",
    "    print(\"Salve, {}!\".format(name))\n",
    "\n",
    "name = \"Hannah\"\n",
    "greetLatin(name)"
   ]
  },
  {
   "cell_type": "code",
   "execution_count": 5,
   "id": "549976ba",
   "metadata": {},
   "outputs": [
    {
     "ename": "NameError",
     "evalue": "name 'sys' is not defined",
     "output_type": "error",
     "traceback": [
      "\u001b[1;31m---------------------------------------------------------------------------\u001b[0m",
      "\u001b[1;31mNameError\u001b[0m                                 Traceback (most recent call last)",
      "\u001b[1;32m<ipython-input-5-5b5e16a23d01>\u001b[0m in \u001b[0;36m<module>\u001b[1;34m\u001b[0m\n\u001b[0;32m      2\u001b[0m \u001b[1;33m\u001b[0m\u001b[0m\n\u001b[0;32m      3\u001b[0m \u001b[0mmyPythonModules\u001b[0m \u001b[1;33m=\u001b[0m \u001b[1;34mr'C:\\Users\\hmatt\\Desktop\\GIS5653\\class_assignments\\Exercise_4'\u001b[0m\u001b[1;33m\u001b[0m\u001b[1;33m\u001b[0m\u001b[0m\n\u001b[1;32m----> 4\u001b[1;33m \u001b[0msys\u001b[0m\u001b[1;33m.\u001b[0m\u001b[0mpath\u001b[0m\u001b[1;33m.\u001b[0m\u001b[0mappend\u001b[0m\u001b[1;33m(\u001b[0m\u001b[0mmyPythonModules\u001b[0m\u001b[1;33m)\u001b[0m\u001b[1;33m\u001b[0m\u001b[1;33m\u001b[0m\u001b[0m\n\u001b[0m\u001b[0;32m      5\u001b[0m \u001b[1;32mimport\u001b[0m \u001b[0mgreetings\u001b[0m\u001b[1;33m\u001b[0m\u001b[1;33m\u001b[0m\u001b[0m\n",
      "\u001b[1;31mNameError\u001b[0m: name 'sys' is not defined"
     ]
    }
   ],
   "source": [
    "# Section 2: modules\n",
    "\n",
    "myPythonModules = r'C:\\Users\\hmatt\\Desktop\\GIS5653\\class_assignments\\Exercise_4'\n",
    "sys.path.append(myPythonModules)\n",
    "import greetings "
   ]
  },
  {
   "cell_type": "code",
   "execution_count": 8,
   "id": "5d30ec8b",
   "metadata": {},
   "outputs": [
    {
     "name": "stdout",
     "output_type": "stream",
     "text": [
      "Good morning, Hannah!\n",
      "Guten Morgen, Hannah!\n",
      "Salve, Hannah!\n"
     ]
    }
   ],
   "source": [
    "name = \"Hannah\"\n",
    "greetings.greetEnglish(name)\n",
    "greetings.greetGerman(name)\n",
    "greetings.greetLatin(name)"
   ]
  },
  {
   "cell_type": "code",
   "execution_count": 16,
   "id": "1b74a534",
   "metadata": {},
   "outputs": [
    {
     "name": "stdout",
     "output_type": "stream",
     "text": [
      "['ArithmeticError', 'AssertionError', 'AttributeError', 'BaseException', 'BlockingIOError', 'BrokenPipeError', 'BufferError', 'BytesWarning', 'ChildProcessError', 'ConnectionAbortedError', 'ConnectionError', 'ConnectionRefusedError', 'ConnectionResetError', 'DeprecationWarning', 'EOFError', 'Ellipsis', 'EnvironmentError', 'Exception', 'False', 'FileExistsError', 'FileNotFoundError', 'FloatingPointError', 'FutureWarning', 'GeneratorExit', 'IOError', 'ImportError', 'ImportWarning', 'IndentationError', 'IndexError', 'InterruptedError', 'IsADirectoryError', 'KeyError', 'KeyboardInterrupt', 'LookupError', 'MemoryError', 'ModuleNotFoundError', 'NameError', 'None', 'NotADirectoryError', 'NotImplemented', 'NotImplementedError', 'OSError', 'OverflowError', 'PendingDeprecationWarning', 'PermissionError', 'ProcessLookupError', 'RecursionError', 'ReferenceError', 'ResourceWarning', 'RuntimeError', 'RuntimeWarning', 'StopAsyncIteration', 'StopIteration', 'SyntaxError', 'SyntaxWarning', 'SystemError', 'SystemExit', 'TabError', 'TimeoutError', 'True', 'TypeError', 'UnboundLocalError', 'UnicodeDecodeError', 'UnicodeEncodeError', 'UnicodeError', 'UnicodeTranslateError', 'UnicodeWarning', 'UserWarning', 'ValueError', 'Warning', 'WindowsError', 'ZeroDivisionError', '__IPYTHON__', '__build_class__', '__debug__', '__doc__', '__import__', '__loader__', '__name__', '__package__', '__spec__', 'abs', 'all', 'any', 'ascii', 'bin', 'bool', 'breakpoint', 'bytearray', 'bytes', 'callable', 'chr', 'classmethod', 'compile', 'complex', 'copyright', 'credits', 'delattr', 'dict', 'dir', 'display', 'divmod', 'enumerate', 'eval', 'exec', 'filter', 'float', 'format', 'frozenset', 'get_ipython', 'getattr', 'globals', 'hasattr', 'hash', 'help', 'hex', 'id', 'input', 'int', 'isinstance', 'issubclass', 'iter', 'len', 'license', 'list', 'locals', 'map', 'max', 'memoryview', 'min', 'next', 'object', 'oct', 'open', 'ord', 'pow', 'print', 'property', 'range', 'repr', 'reversed', 'round', 'set', 'setattr', 'slice', 'sorted', 'staticmethod', 'str', 'sum', 'super', 'tuple', 'type', 'vars', 'zip']\n"
     ]
    }
   ],
   "source": [
    "# Section 3: Built-in Functions\n",
    "\n",
    "# I think this code is intending to find the arithmetic mean (average) of the provided list of numbers.\n",
    "#count = 0 \n",
    "#total = 0\n",
    "#number = [3, 6, 9, 12, 15]\n",
    "#for number in numbers:\n",
    "#total = total + number\n",
    "#count = count + 1\n",
    "#average = total / count\n",
    "#print(‘Average: ’, average)\n",
    "\n",
    "\n",
    "print(dir(__builtins__))"
   ]
  },
  {
   "cell_type": "code",
   "execution_count": 17,
   "id": "0cfeea03",
   "metadata": {},
   "outputs": [
    {
     "name": "stdout",
     "output_type": "stream",
     "text": [
      "Average:  9.0\n"
     ]
    }
   ],
   "source": [
    "number = [3, 6, 9, 12, 15]\n",
    "average = sum(number)/len(number)\n",
    "print('Average: ', average)"
   ]
  }
 ],
 "metadata": {
  "kernelspec": {
   "display_name": "Python 3",
   "language": "python",
   "name": "python3"
  },
  "language_info": {
   "codemirror_mode": {
    "name": "ipython",
    "version": 3
   },
   "file_extension": ".py",
   "mimetype": "text/x-python",
   "name": "python",
   "nbconvert_exporter": "python",
   "pygments_lexer": "ipython3",
   "version": "3.7.11"
  }
 },
 "nbformat": 4,
 "nbformat_minor": 5
}
