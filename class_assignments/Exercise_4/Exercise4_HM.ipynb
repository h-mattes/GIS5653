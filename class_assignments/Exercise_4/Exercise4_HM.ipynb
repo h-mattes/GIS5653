{
 "cells": [
  {
   "cell_type": "markdown",
   "id": "668fb664",
   "metadata": {},
   "source": [
    "Hannah Mattes Exercise 4"
   ]
  },
  {
   "cell_type": "code",
   "execution_count": 11,
   "id": "ecff033f",
   "metadata": {},
   "outputs": [
    {
     "name": "stdout",
     "output_type": "stream",
     "text": [
      "Good morning, Hannah!\n"
     ]
    }
   ],
   "source": [
    "# Section 1: write functions\n",
    "\n",
    "def greetEnglish(name):\n",
    "    \"\"\"Returns a greeting in English\"\"\"\n",
    "    print(\"Good morning, \" + str(name) + \"!\")\n",
    "\n",
    "name = \"Hannah\"\n",
    "greetEnglish(name)"
   ]
  },
  {
   "cell_type": "code",
   "execution_count": 23,
   "id": "c21996ab",
   "metadata": {},
   "outputs": [
    {
     "name": "stdout",
     "output_type": "stream",
     "text": [
      "Guten Morgen, Hannah!\n"
     ]
    }
   ],
   "source": [
    "def greetGerman(name):\n",
    "    \"\"\"Returns a greeting in German\"\"\"\n",
    "    print(f\"Guten Morgen, {name}!\")\n",
    "\n",
    "name = \"Hannah\"\n",
    "greetGerman(name)"
   ]
  },
  {
   "cell_type": "code",
   "execution_count": 24,
   "id": "1a1e96b8",
   "metadata": {},
   "outputs": [
    {
     "name": "stdout",
     "output_type": "stream",
     "text": [
      "Salve, Hannah!\n"
     ]
    }
   ],
   "source": [
    "def greetLatin(name):\n",
    "    \"\"\"Returns a greeting in Latin\"\"\"\n",
    "    print(\"Salve, {}!\".format(name))\n",
    "\n",
    "name = \"Hannah\"\n",
    "greetLatin(name)"
   ]
  },
  {
   "cell_type": "code",
   "execution_count": 5,
   "id": "ffaef509",
   "metadata": {},
   "outputs": [
    {
     "ename": "NameError",
     "evalue": "name 'sys' is not defined",
     "output_type": "error",
     "traceback": [
      "\u001b[1;31m---------------------------------------------------------------------------\u001b[0m",
      "\u001b[1;31mNameError\u001b[0m                                 Traceback (most recent call last)",
      "\u001b[1;32m<ipython-input-5-5b5e16a23d01>\u001b[0m in \u001b[0;36m<module>\u001b[1;34m\u001b[0m\n\u001b[0;32m      2\u001b[0m \u001b[1;33m\u001b[0m\u001b[0m\n\u001b[0;32m      3\u001b[0m \u001b[0mmyPythonModules\u001b[0m \u001b[1;33m=\u001b[0m \u001b[1;34mr'C:\\Users\\hmatt\\Desktop\\GIS5653\\class_assignments\\Exercise_4'\u001b[0m\u001b[1;33m\u001b[0m\u001b[1;33m\u001b[0m\u001b[0m\n\u001b[1;32m----> 4\u001b[1;33m \u001b[0msys\u001b[0m\u001b[1;33m.\u001b[0m\u001b[0mpath\u001b[0m\u001b[1;33m.\u001b[0m\u001b[0mappend\u001b[0m\u001b[1;33m(\u001b[0m\u001b[0mmyPythonModules\u001b[0m\u001b[1;33m)\u001b[0m\u001b[1;33m\u001b[0m\u001b[1;33m\u001b[0m\u001b[0m\n\u001b[0m\u001b[0;32m      5\u001b[0m \u001b[1;32mimport\u001b[0m \u001b[0mgreetings\u001b[0m\u001b[1;33m\u001b[0m\u001b[1;33m\u001b[0m\u001b[0m\n",
      "\u001b[1;31mNameError\u001b[0m: name 'sys' is not defined"
     ]
    }
   ],
   "source": [
    "# Section 2: modules\n",
    "\n",
    "myPythonModules = r'C:\\Users\\hmatt\\Desktop\\GIS5653\\class_assignments\\Exercise_4'\n",
    "sys.path.append(myPythonModules)\n",
    "import greetings "
   ]
  },
  {
   "cell_type": "code",
   "execution_count": 8,
   "id": "09777b26",
   "metadata": {},
   "outputs": [
    {
     "name": "stdout",
     "output_type": "stream",
     "text": [
      "Good morning, Hannah!\n",
      "Guten Morgen, Hannah!\n",
      "Salve, Hannah!\n"
     ]
    }
   ],
   "source": [
    "name = \"Hannah\"\n",
    "greetings.greetEnglish(name)\n",
    "greetings.greetGerman(name)\n",
    "greetings.greetLatin(name)"
   ]
  }
 ],
 "metadata": {
  "kernelspec": {
   "display_name": "Python 3",
   "language": "python",
   "name": "python3"
  },
  "language_info": {
   "codemirror_mode": {
    "name": "ipython",
    "version": 3
   },
   "file_extension": ".py",
   "mimetype": "text/x-python",
   "name": "python",
   "nbconvert_exporter": "python",
   "pygments_lexer": "ipython3",
   "version": "3.7.11"
  }
 },
 "nbformat": 4,
 "nbformat_minor": 5
}
