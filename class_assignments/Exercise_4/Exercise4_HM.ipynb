{
 "cells": [
  {
   "cell_type": "markdown",
   "id": "368c7c5b",
   "metadata": {},
   "source": [
    "Hannah Mattes Exercise 4"
   ]
  },
  {
   "cell_type": "code",
   "execution_count": 11,
   "id": "8994be04",
   "metadata": {},
   "outputs": [
    {
     "name": "stdout",
     "output_type": "stream",
     "text": [
      "Good morning, Hannah!\n"
     ]
    }
   ],
   "source": [
    "# Section 1: write functions\n",
    "\n",
    "def greetEnglish(name):\n",
    "    \"\"\"Returns a greeting in English\"\"\"\n",
    "    print(\"Good morning, \" + str(name) + \"!\")\n",
    "\n",
    "name = \"Hannah\"\n",
    "greetEnglish(name)"
   ]
  },
  {
   "cell_type": "code",
   "execution_count": 23,
   "id": "9ad08dc7",
   "metadata": {},
   "outputs": [
    {
     "name": "stdout",
     "output_type": "stream",
     "text": [
      "Guten Morgen, Hannah!\n"
     ]
    }
   ],
   "source": [
    "def greetGerman(name):\n",
    "    \"\"\"Returns a greeting in German\"\"\"\n",
    "    print(f\"Guten Morgen, {name}!\")\n",
    "\n",
    "name = \"Hannah\"\n",
    "greetGerman(name)"
   ]
  },
  {
   "cell_type": "code",
   "execution_count": 24,
   "id": "0473e320",
   "metadata": {},
   "outputs": [
    {
     "name": "stdout",
     "output_type": "stream",
     "text": [
      "Salve, Hannah!\n"
     ]
    }
   ],
   "source": [
    "def greetLatin(name):\n",
    "    \"\"\"Returns a greeting in Latin\"\"\"\n",
    "    print(\"Salve, {}!\".format(name))\n",
    "\n",
    "name = \"Hannah\"\n",
    "greetLatin(name)"
   ]
  }
 ],
 "metadata": {
  "kernelspec": {
   "display_name": "Python 3",
   "language": "python",
   "name": "python3"
  },
  "language_info": {
   "codemirror_mode": {
    "name": "ipython",
    "version": 3
   },
   "file_extension": ".py",
   "mimetype": "text/x-python",
   "name": "python",
   "nbconvert_exporter": "python",
   "pygments_lexer": "ipython3",
   "version": "3.7.11"
  }
 },
 "nbformat": 4,
 "nbformat_minor": 5
}
