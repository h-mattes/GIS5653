{
 "cells": [
  {
   "cell_type": "markdown",
   "id": "b630b6e9",
   "metadata": {},
   "source": [
    "Hannah Mattes Exercise 6"
   ]
  },
  {
   "cell_type": "markdown",
   "id": "fe59d9b6",
   "metadata": {},
   "source": [
    "### Section 1: version control"
   ]
  },
  {
   "cell_type": "markdown",
   "id": "2cf30cf2",
   "metadata": {},
   "source": []
  }
 ],
 "metadata": {
  "kernelspec": {
   "display_name": "Python 3",
   "language": "python",
   "name": "python3"
  },
  "language_info": {
   "codemirror_mode": {
    "name": "ipython",
    "version": 3
   },
   "file_extension": ".py",
   "mimetype": "text/x-python",
   "name": "python",
   "nbconvert_exporter": "python",
   "pygments_lexer": "ipython3",
   "version": "3.7.11"
  }
 },
 "nbformat": 4,
 "nbformat_minor": 5
}
